{
  "nbformat": 4,
  "nbformat_minor": 0,
  "metadata": {
    "colab": {
      "provenance": [],
      "gpuType": "T4",
      "mount_file_id": "1Bjc-7nD0xFTQ2uGTChdxvK6mqNIzoQoA",
      "authorship_tag": "ABX9TyN3/WfICf++7e63y6Zazpg1",
      "include_colab_link": true
    },
    "kernelspec": {
      "name": "python3",
      "display_name": "Python 3"
    },
    "language_info": {
      "name": "python"
    }
  },
  "cells": [
    {
      "cell_type": "markdown",
      "metadata": {
        "id": "view-in-github",
        "colab_type": "text"
      },
      "source": [
        "<a href=\"https://colab.research.google.com/github/Tariquzzaman-faisal/hatespeech/blob/main/lstm.ipynb\" target=\"_parent\"><img src=\"https://colab.research.google.com/assets/colab-badge.svg\" alt=\"Open In Colab\"/></a>"
      ]
    },
    {
      "cell_type": "code",
      "source": [
        "from google.colab import drive\n",
        "\n",
        "drive.mount('/content/drive/')"
      ],
      "metadata": {
        "colab": {
          "base_uri": "https://localhost:8080/"
        },
        "id": "f3RSev7d4XDl",
        "outputId": "b4dad8b1-208e-4133-cd9f-11f6cd0e8e86"
      },
      "execution_count": 1,
      "outputs": [
        {
          "output_type": "stream",
          "name": "stdout",
          "text": [
            "Drive already mounted at /content/drive/; to attempt to forcibly remount, call drive.mount(\"/content/drive/\", force_remount=True).\n"
          ]
        }
      ]
    },
    {
      "cell_type": "markdown",
      "source": [
        "# Training an LSTM on the generated encodings"
      ],
      "metadata": {
        "id": "E_Oy2g6E3xPM"
      }
    },
    {
      "cell_type": "code",
      "source": [
        "!pip install numpy"
      ],
      "metadata": {
        "colab": {
          "base_uri": "https://localhost:8080/"
        },
        "id": "Zp5G87O9irWd",
        "outputId": "39589636-ec61-4f91-d36a-d30240631c50"
      },
      "execution_count": 2,
      "outputs": [
        {
          "output_type": "stream",
          "name": "stdout",
          "text": [
            "Requirement already satisfied: numpy in /usr/local/lib/python3.10/dist-packages (1.22.4)\n"
          ]
        }
      ]
    },
    {
      "cell_type": "code",
      "source": [
        "import csv\n",
        "import numpy as np\n",
        "\n",
        "# Specify the CSV file path\n",
        "csv_file_path = \"/content/drive/MyDrive/Research/Shared Task/Violence Inciting Text Detection (VITD) Bangla/embedded2.csv\"\n",
        "\n",
        "# Read the data from the CSV file\n",
        "data = np.genfromtxt(csv_file_path, delimiter=',', skip_header=1)\n",
        "\n",
        "# Split the data into `bertEmbeddings` and `labels` arrays\n",
        "bertEmbeddings = data[:, :-1]\n",
        "labels = data[:, -1].astype(int)"
      ],
      "metadata": {
        "id": "p6TC8ifQiTVH"
      },
      "execution_count": 3,
      "outputs": []
    },
    {
      "cell_type": "code",
      "source": [
        "print(f'bertEmbeddings: {bertEmbeddings}')\n",
        "print(f'labels: {labels}')"
      ],
      "metadata": {
        "colab": {
          "base_uri": "https://localhost:8080/"
        },
        "id": "w-mBeCqgiwKy",
        "outputId": "72e3867d-9cf6-4aeb-d681-ecafeb1df103"
      },
      "execution_count": 7,
      "outputs": [
        {
          "output_type": "stream",
          "name": "stdout",
          "text": [
            "bertEmbeddings: [[-13.00299454  -0.73462087  -0.57271749 ...   5.38898468  -2.41615009\n",
            "   -0.43181288]\n",
            " [-12.77867985  -2.68920445  -3.35125947 ...   0.24795489  -0.66592824\n",
            "   -1.92575634]\n",
            " [-14.33217907  -7.8353014   -3.74883032 ...  -0.76926965  -1.4627775\n",
            "   -2.04114509]\n",
            " ...\n",
            " [-15.2856226   -2.84475231  -2.1643548  ...   1.90715456   0.3952359\n",
            "   -0.55821282]\n",
            " [-12.2387886   -3.43063974  -7.23090553 ...   6.47149897   1.32374465\n",
            "   -1.50549579]\n",
            " [-13.61747932  -4.03414297  -3.02906322 ...  -5.82230282 -13.61741447\n",
            "    2.46557331]]\n",
            "labels: [0 1 3 ... 0 0 1]\n"
          ]
        }
      ]
    },
    {
      "cell_type": "code",
      "source": [
        "from keras.utils import to_categorical\n",
        "\n",
        "onehot_labels = to_categorical(labels)"
      ],
      "metadata": {
        "id": "OQ5pGQ0Ui1GG"
      },
      "execution_count": 8,
      "outputs": []
    },
    {
      "cell_type": "code",
      "source": [
        "print(f'Onehot labels: {onehot_labels}')"
      ],
      "metadata": {
        "colab": {
          "base_uri": "https://localhost:8080/"
        },
        "id": "4-d4TxxUlpG2",
        "outputId": "f04a6a52-5455-4843-bbe4-de9ea97d520f"
      },
      "execution_count": 10,
      "outputs": [
        {
          "output_type": "stream",
          "name": "stdout",
          "text": [
            "Onehot labels: [[1. 0. 0. 0.]\n",
            " [0. 1. 0. 0.]\n",
            " [0. 0. 0. 1.]\n",
            " ...\n",
            " [1. 0. 0. 0.]\n",
            " [1. 0. 0. 0.]\n",
            " [0. 1. 0. 0.]]\n"
          ]
        }
      ]
    },
    {
      "cell_type": "code",
      "source": [
        "from sklearn.model_selection import train_test_split\n",
        "X_train, X_val, y_train, y_val = train_test_split(bertEmbeddings, onehot_labels, test_size=0.2, random_state=42)"
      ],
      "metadata": {
        "id": "fP24uFRtmkky"
      },
      "execution_count": 16,
      "outputs": []
    },
    {
      "cell_type": "code",
      "source": [
        "print(f'X_train: {X_train.shape}\\n\\\n",
        "        y_train: {y_train.shape}\\n\\\n",
        "        X_val: {X_val.shape}\\n\\\n",
        "        y_val: {y_val.shape}')"
      ],
      "metadata": {
        "colab": {
          "base_uri": "https://localhost:8080/"
        },
        "id": "ki7GhTqfmrc5",
        "outputId": "c31d0e1a-a0da-43be-f9ec-ba3638adb3e5"
      },
      "execution_count": 18,
      "outputs": [
        {
          "output_type": "stream",
          "name": "stdout",
          "text": [
            "X_train: (4558, 30)\n",
            "        y_train: (4558, 4)\n",
            "        X_val: (1140, 30)\n",
            "        y_val: (1140, 4)\n"
          ]
        }
      ]
    },
    {
      "cell_type": "markdown",
      "source": [
        "# passing embeddings to lstm model"
      ],
      "metadata": {
        "id": "etztEMgCmAnE"
      }
    },
    {
      "cell_type": "code",
      "source": [
        "import numpy as np\n",
        "from keras.models import Sequential\n",
        "from keras.layers import LSTM, Dense\n"
      ],
      "metadata": {
        "id": "jJPJI4y8lueA"
      },
      "execution_count": null,
      "outputs": []
    }
  ]
}