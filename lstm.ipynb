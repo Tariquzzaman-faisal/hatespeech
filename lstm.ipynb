{
  "nbformat": 4,
  "nbformat_minor": 0,
  "metadata": {
    "colab": {
      "provenance": [],
      "gpuType": "T4",
      "mount_file_id": "1Bjc-7nD0xFTQ2uGTChdxvK6mqNIzoQoA",
      "authorship_tag": "ABX9TyOX5/N7MJHlmt6LG1yC/p+D",
      "include_colab_link": true
    },
    "kernelspec": {
      "name": "python3",
      "display_name": "Python 3"
    },
    "language_info": {
      "name": "python"
    },
    "accelerator": "GPU"
  },
  "cells": [
    {
      "cell_type": "markdown",
      "metadata": {
        "id": "view-in-github",
        "colab_type": "text"
      },
      "source": [
        "<a href=\"https://colab.research.google.com/github/Tariquzzaman-faisal/hatespeech/blob/main/lstm.ipynb\" target=\"_parent\"><img src=\"https://colab.research.google.com/assets/colab-badge.svg\" alt=\"Open In Colab\"/></a>"
      ]
    },
    {
      "cell_type": "code",
      "source": [
        "from google.colab import drive\n",
        "\n",
        "drive.mount('/content/drive/')"
      ],
      "metadata": {
        "colab": {
          "base_uri": "https://localhost:8080/"
        },
        "id": "f3RSev7d4XDl",
        "outputId": "6acf7ccd-e2c8-441f-d7a1-9144a6b139ab"
      },
      "execution_count": 1,
      "outputs": [
        {
          "output_type": "stream",
          "name": "stdout",
          "text": [
            "Drive already mounted at /content/drive/; to attempt to forcibly remount, call drive.mount(\"/content/drive/\", force_remount=True).\n"
          ]
        }
      ]
    },
    {
      "cell_type": "markdown",
      "source": [
        "# Reading the generated encodings and preparing the train and test dataset"
      ],
      "metadata": {
        "id": "E_Oy2g6E3xPM"
      }
    },
    {
      "cell_type": "code",
      "source": [
        "!pip install numpy"
      ],
      "metadata": {
        "colab": {
          "base_uri": "https://localhost:8080/"
        },
        "id": "Zp5G87O9irWd",
        "outputId": "f51e03b5-3bcc-4434-fba7-f52403356f5f"
      },
      "execution_count": 2,
      "outputs": [
        {
          "output_type": "stream",
          "name": "stdout",
          "text": [
            "Requirement already satisfied: numpy in /usr/local/lib/python3.10/dist-packages (1.22.4)\n"
          ]
        }
      ]
    },
    {
      "cell_type": "code",
      "source": [
        "import csv\n",
        "import numpy as np\n",
        "\n",
        "# Specify the CSV file path\n",
        "csv_file_path = \"/content/drive/MyDrive/Research/Shared Task/Violence Inciting Text Detection (VITD) Bangla/embedded2.csv\"\n",
        "\n",
        "# Read the data from the CSV file\n",
        "data = np.genfromtxt(csv_file_path, delimiter=',', skip_header=1)\n",
        "\n",
        "# Split the data into `bertEmbeddings` and `labels` arrays\n",
        "bertEmbeddings = data[:, :-1]\n",
        "labels = data[:, -1].astype(int)"
      ],
      "metadata": {
        "id": "p6TC8ifQiTVH"
      },
      "execution_count": 3,
      "outputs": []
    },
    {
      "cell_type": "code",
      "source": [
        "print(f'bertEmbeddings: {bertEmbeddings}')\n",
        "print(f'labels: {labels}')"
      ],
      "metadata": {
        "colab": {
          "base_uri": "https://localhost:8080/"
        },
        "id": "w-mBeCqgiwKy",
        "outputId": "76484f35-d516-47f7-b9ed-1222e4ea772b"
      },
      "execution_count": 4,
      "outputs": [
        {
          "output_type": "stream",
          "name": "stdout",
          "text": [
            "bertEmbeddings: [[-13.00299454  -0.73462087  -0.57271749 ...   5.38898468  -2.41615009\n",
            "   -0.43181288]\n",
            " [-12.77867985  -2.68920445  -3.35125947 ...   0.24795489  -0.66592824\n",
            "   -1.92575634]\n",
            " [-14.33217907  -7.8353014   -3.74883032 ...  -0.76926965  -1.4627775\n",
            "   -2.04114509]\n",
            " ...\n",
            " [-15.2856226   -2.84475231  -2.1643548  ...   1.90715456   0.3952359\n",
            "   -0.55821282]\n",
            " [-12.2387886   -3.43063974  -7.23090553 ...   6.47149897   1.32374465\n",
            "   -1.50549579]\n",
            " [-13.61747932  -4.03414297  -3.02906322 ...  -5.82230282 -13.61741447\n",
            "    2.46557331]]\n",
            "labels: [0 1 3 ... 0 0 1]\n"
          ]
        }
      ]
    },
    {
      "cell_type": "code",
      "source": [
        "from keras.utils import to_categorical\n",
        "\n",
        "onehot_labels = to_categorical(labels)"
      ],
      "metadata": {
        "id": "OQ5pGQ0Ui1GG"
      },
      "execution_count": 5,
      "outputs": []
    },
    {
      "cell_type": "code",
      "source": [
        "print(f'Onehot labels: {onehot_labels}')"
      ],
      "metadata": {
        "colab": {
          "base_uri": "https://localhost:8080/"
        },
        "id": "4-d4TxxUlpG2",
        "outputId": "eafd78d3-50bc-413c-ea6b-71ef7f86836f"
      },
      "execution_count": 6,
      "outputs": [
        {
          "output_type": "stream",
          "name": "stdout",
          "text": [
            "Onehot labels: [[1. 0. 0. 0.]\n",
            " [0. 1. 0. 0.]\n",
            " [0. 0. 0. 1.]\n",
            " ...\n",
            " [1. 0. 0. 0.]\n",
            " [1. 0. 0. 0.]\n",
            " [0. 1. 0. 0.]]\n"
          ]
        }
      ]
    },
    {
      "cell_type": "code",
      "source": [
        "from sklearn.model_selection import train_test_split\n",
        "X_train, X_rem, y_train, y_rem = train_test_split(bertEmbeddings, onehot_labels, test_size=0.3, random_state=42)"
      ],
      "metadata": {
        "id": "fP24uFRtmkky"
      },
      "execution_count": 24,
      "outputs": []
    },
    {
      "cell_type": "code",
      "source": [
        "X_test, X_val, y_test, y_val = train_test_split(X_rem, y_rem, test_size=0.5, random_state=40)"
      ],
      "metadata": {
        "id": "2eP9h2pItt7J"
      },
      "execution_count": 27,
      "outputs": []
    },
    {
      "cell_type": "code",
      "source": [
        "print(f'X_train: {X_train.shape}\\n\\\n",
        "        y_train: {y_train.shape}\\n\\\n",
        "        X_val: {X_val.shape}\\n\\\n",
        "        y_val: {y_val.shape}\\n\\\n",
        "        X_test: {X_test.shape}\\n\\\n",
        "        y_test: {y_test.shape}')"
      ],
      "metadata": {
        "colab": {
          "base_uri": "https://localhost:8080/"
        },
        "id": "ki7GhTqfmrc5",
        "outputId": "2ed9438c-5a63-47cb-fdfb-c95cc327217c"
      },
      "execution_count": 28,
      "outputs": [
        {
          "output_type": "stream",
          "name": "stdout",
          "text": [
            "X_train: (3988, 30)\n",
            "        y_train: (3988, 4)\n",
            "        X_val: (855, 30)\n",
            "        y_val: (855, 4)\n",
            "        X_test: (855, 30)\n",
            "        y_test: (855, 4)\n"
          ]
        }
      ]
    },
    {
      "cell_type": "markdown",
      "source": [
        "# passing embeddings to lstm model"
      ],
      "metadata": {
        "id": "etztEMgCmAnE"
      }
    },
    {
      "cell_type": "code",
      "source": [
        "import numpy as np\n",
        "from keras.models import Sequential\n",
        "from keras.layers import LSTM, Dense\n"
      ],
      "metadata": {
        "id": "jJPJI4y8lueA"
      },
      "execution_count": 9,
      "outputs": []
    },
    {
      "cell_type": "code",
      "source": [
        "input_shape = (30, 1)  # Add a new axis to the input shape\n",
        "\n",
        "model = Sequential()\n",
        "model.add(LSTM(64, input_shape=input_shape))  # You can adjust the number of LSTM units (e.g., 64) based on your data and complexity requirements\n",
        "model.add(Dense(4, activation='softmax'))  # Output layer with 4 units, using softmax activation for multi-class classification"
      ],
      "metadata": {
        "id": "j5NDR6PnpiEG"
      },
      "execution_count": 10,
      "outputs": []
    },
    {
      "cell_type": "code",
      "source": [
        "# Step 3: Compile the model\n",
        "model.compile(optimizer='adam', loss='categorical_crossentropy', metrics=['accuracy'])"
      ],
      "metadata": {
        "id": "QdYbBtUcqHOS"
      },
      "execution_count": 11,
      "outputs": []
    },
    {
      "cell_type": "code",
      "source": [
        "# Assuming you have already loaded your data as numpy arrays (X_train, y_train, X_val, y_val)\n",
        "model.fit(X_train, y_train, batch_size=64, epochs=20, validation_data=(X_val, y_val))"
      ],
      "metadata": {
        "colab": {
          "base_uri": "https://localhost:8080/"
        },
        "id": "SjwPIMCmr-ly",
        "outputId": "4e764683-a4f8-446f-9b46-8b9251cbe991"
      },
      "execution_count": 29,
      "outputs": [
        {
          "output_type": "stream",
          "name": "stdout",
          "text": [
            "Epoch 1/20\n",
            "63/63 [==============================] - 1s 9ms/step - loss: 1.2472 - accuracy: 0.4453 - val_loss: 1.2842 - val_accuracy: 0.4047\n",
            "Epoch 2/20\n",
            "63/63 [==============================] - 0s 8ms/step - loss: 1.2444 - accuracy: 0.4506 - val_loss: 1.2934 - val_accuracy: 0.4012\n",
            "Epoch 3/20\n",
            "63/63 [==============================] - 0s 6ms/step - loss: 1.2438 - accuracy: 0.4524 - val_loss: 1.2825 - val_accuracy: 0.4012\n",
            "Epoch 4/20\n",
            "63/63 [==============================] - 0s 6ms/step - loss: 1.2414 - accuracy: 0.4524 - val_loss: 1.2798 - val_accuracy: 0.3965\n",
            "Epoch 5/20\n",
            "63/63 [==============================] - 0s 6ms/step - loss: 1.2409 - accuracy: 0.4516 - val_loss: 1.2801 - val_accuracy: 0.4094\n",
            "Epoch 6/20\n",
            "63/63 [==============================] - 0s 6ms/step - loss: 1.2390 - accuracy: 0.4559 - val_loss: 1.2979 - val_accuracy: 0.4012\n",
            "Epoch 7/20\n",
            "63/63 [==============================] - 0s 6ms/step - loss: 1.2369 - accuracy: 0.4531 - val_loss: 1.2879 - val_accuracy: 0.4058\n",
            "Epoch 8/20\n",
            "63/63 [==============================] - 0s 6ms/step - loss: 1.2357 - accuracy: 0.4539 - val_loss: 1.2881 - val_accuracy: 0.4070\n",
            "Epoch 9/20\n",
            "63/63 [==============================] - 0s 6ms/step - loss: 1.2335 - accuracy: 0.4574 - val_loss: 1.2897 - val_accuracy: 0.4047\n",
            "Epoch 10/20\n",
            "63/63 [==============================] - 0s 6ms/step - loss: 1.2322 - accuracy: 0.4604 - val_loss: 1.2824 - val_accuracy: 0.4140\n",
            "Epoch 11/20\n",
            "63/63 [==============================] - 0s 6ms/step - loss: 1.2329 - accuracy: 0.4616 - val_loss: 1.2856 - val_accuracy: 0.4094\n",
            "Epoch 12/20\n",
            "63/63 [==============================] - 0s 7ms/step - loss: 1.2338 - accuracy: 0.4596 - val_loss: 1.2917 - val_accuracy: 0.3918\n",
            "Epoch 13/20\n",
            "63/63 [==============================] - 0s 8ms/step - loss: 1.2292 - accuracy: 0.4599 - val_loss: 1.2911 - val_accuracy: 0.4012\n",
            "Epoch 14/20\n",
            "63/63 [==============================] - 0s 7ms/step - loss: 1.2259 - accuracy: 0.4634 - val_loss: 1.2905 - val_accuracy: 0.4094\n",
            "Epoch 15/20\n",
            "63/63 [==============================] - 0s 8ms/step - loss: 1.2248 - accuracy: 0.4722 - val_loss: 1.3059 - val_accuracy: 0.4000\n",
            "Epoch 16/20\n",
            "63/63 [==============================] - 0s 7ms/step - loss: 1.2238 - accuracy: 0.4712 - val_loss: 1.2901 - val_accuracy: 0.4070\n",
            "Epoch 17/20\n",
            "63/63 [==============================] - 1s 9ms/step - loss: 1.2205 - accuracy: 0.4634 - val_loss: 1.2950 - val_accuracy: 0.4023\n",
            "Epoch 18/20\n",
            "63/63 [==============================] - 1s 8ms/step - loss: 1.2222 - accuracy: 0.4656 - val_loss: 1.3028 - val_accuracy: 0.4047\n",
            "Epoch 19/20\n",
            "63/63 [==============================] - 0s 7ms/step - loss: 1.2167 - accuracy: 0.4654 - val_loss: 1.2950 - val_accuracy: 0.4047\n",
            "Epoch 20/20\n",
            "63/63 [==============================] - 0s 6ms/step - loss: 1.2157 - accuracy: 0.4727 - val_loss: 1.3144 - val_accuracy: 0.4047\n"
          ]
        },
        {
          "output_type": "execute_result",
          "data": {
            "text/plain": [
              "<keras.callbacks.History at 0x7d55b71b38b0>"
            ]
          },
          "metadata": {},
          "execution_count": 29
        }
      ]
    },
    {
      "cell_type": "code",
      "source": [
        "loss, accuracy = model.evaluate(X_val, y_val)\n",
        "print(f\"Validation Loss: {loss:.4f}, Validation Accuracy: {accuracy:.4f}\")"
      ],
      "metadata": {
        "colab": {
          "base_uri": "https://localhost:8080/"
        },
        "id": "uwBsfzwisIQS",
        "outputId": "c0fd9a4d-30e2-46e8-eed1-a6baa3297d83"
      },
      "execution_count": 30,
      "outputs": [
        {
          "output_type": "stream",
          "name": "stdout",
          "text": [
            "27/27 [==============================] - 0s 4ms/step - loss: 1.3144 - accuracy: 0.4047\n",
            "Validation Loss: 1.3144, Validation Accuracy: 0.4047\n"
          ]
        }
      ]
    },
    {
      "cell_type": "code",
      "source": [
        "from sklearn.metrics import classification_report\n",
        "\n",
        "# Step 7: Get predictions from the model\n",
        "y_test_pred = model.predict(X_test)\n",
        "\n",
        "# Convert one-hot encoded predictions to class labels\n",
        "y_test_pred_labels = np.argmax(y_test_pred, axis=1)\n",
        "y_test_true_labels = np.argmax(y_test, axis=1)\n",
        "\n",
        "# Step 8: Get the classification report for the test data\n",
        "report = classification_report(y_test_true_labels, y_test_pred_labels)\n",
        "print(\"Classification Report (Test Data):\")\n",
        "print(report)\n"
      ],
      "metadata": {
        "colab": {
          "base_uri": "https://localhost:8080/"
        },
        "id": "p-hoa7i5tPCe",
        "outputId": "6fa97a9a-210e-4605-b63e-b14a0c147d92"
      },
      "execution_count": 31,
      "outputs": [
        {
          "output_type": "stream",
          "name": "stdout",
          "text": [
            "27/27 [==============================] - 0s 2ms/step\n",
            "Classification Report (Test Data):\n",
            "              precision    recall  f1-score   support\n",
            "\n",
            "           0       0.42      0.78      0.55       306\n",
            "           1       0.33      0.02      0.03       126\n",
            "           2       0.23      0.05      0.08       150\n",
            "           3       0.48      0.44      0.46       273\n",
            "\n",
            "    accuracy                           0.43       855\n",
            "   macro avg       0.37      0.32      0.28       855\n",
            "weighted avg       0.39      0.43      0.36       855\n",
            "\n"
          ]
        }
      ]
    },
    {
      "cell_type": "code",
      "source": [],
      "metadata": {
        "id": "4oxtw7bjtcpK"
      },
      "execution_count": null,
      "outputs": []
    }
  ]
}