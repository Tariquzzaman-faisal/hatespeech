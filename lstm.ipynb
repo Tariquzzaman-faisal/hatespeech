{
  "nbformat": 4,
  "nbformat_minor": 0,
  "metadata": {
    "colab": {
      "provenance": [],
      "gpuType": "T4",
      "include_colab_link": true
    },
    "kernelspec": {
      "name": "python3",
      "display_name": "Python 3"
    },
    "language_info": {
      "name": "python"
    },
    "accelerator": "GPU"
  },
  "cells": [
    {
      "cell_type": "markdown",
      "metadata": {
        "id": "view-in-github",
        "colab_type": "text"
      },
      "source": [
        "<a href=\"https://colab.research.google.com/github/Tariquzzaman-faisal/hatespeech/blob/main/lstm.ipynb\" target=\"_parent\"><img src=\"https://colab.research.google.com/assets/colab-badge.svg\" alt=\"Open In Colab\"/></a>"
      ]
    },
    {
      "cell_type": "code",
      "source": [
        "from google.colab import drive\n",
        "\n",
        "drive.mount('/content/drive/')"
      ],
      "metadata": {
        "colab": {
          "base_uri": "https://localhost:8080/"
        },
        "id": "f3RSev7d4XDl",
        "outputId": "d38df029-c86a-4ba8-8fc8-5958651214e3"
      },
      "execution_count": null,
      "outputs": [
        {
          "output_type": "stream",
          "name": "stdout",
          "text": [
            "Mounted at /content/drive/\n"
          ]
        }
      ]
    },
    {
      "cell_type": "markdown",
      "source": [
        "# Reading the generated encodings and preparing the train and test dataset"
      ],
      "metadata": {
        "id": "E_Oy2g6E3xPM"
      }
    },
    {
      "cell_type": "code",
      "source": [
        "!pip install numpy"
      ],
      "metadata": {
        "colab": {
          "base_uri": "https://localhost:8080/"
        },
        "id": "Zp5G87O9irWd",
        "outputId": "f92a1701-395f-453d-bbd2-6261bcaa8499"
      },
      "execution_count": null,
      "outputs": [
        {
          "output_type": "stream",
          "name": "stdout",
          "text": [
            "Requirement already satisfied: numpy in /usr/local/lib/python3.10/dist-packages (1.22.4)\n"
          ]
        }
      ]
    },
    {
      "cell_type": "code",
      "source": [
        "import csv\n",
        "import numpy as np\n",
        "\n",
        "# Specify the CSV file path\n",
        "csv_file_path = \"/content/drive/MyDrive/Research/Shared Task/Violence Inciting Text Detection (VITD) Bangla/embedded2.csv\"\n",
        "\n",
        "# Read the data from the CSV file\n",
        "data = np.genfromtxt(csv_file_path, delimiter=',', skip_header=1)\n",
        "\n",
        "# Split the data into `bertEmbeddings` and `labels` arrays\n",
        "bertEmbeddings = data[:, :-1]\n",
        "labels = data[:, -1].astype(int)"
      ],
      "metadata": {
        "id": "p6TC8ifQiTVH"
      },
      "execution_count": null,
      "outputs": []
    },
    {
      "cell_type": "code",
      "source": [
        "print(f'bertEmbeddings: {bertEmbeddings}')\n",
        "print(f'labels: {labels}')"
      ],
      "metadata": {
        "colab": {
          "base_uri": "https://localhost:8080/"
        },
        "id": "w-mBeCqgiwKy",
        "outputId": "2b04224e-4fb9-4095-9763-6d567fdbdd35"
      },
      "execution_count": null,
      "outputs": [
        {
          "output_type": "stream",
          "name": "stdout",
          "text": [
            "bertEmbeddings: [[-13.00299263  -0.73461741  -0.57270575 ...  -1.18679011   4.70789433\n",
            "  -13.14398575]\n",
            " [-12.77867699  -2.68920493  -3.35125685 ...  -2.41241527   5.1453104\n",
            "  -12.67943573]\n",
            " [-14.3321743   -7.83530235  -3.7488277  ...  -1.73290098  -3.04261637\n",
            "  -14.16944313]\n",
            " ...\n",
            " [-15.28562164  -2.84474206  -2.16434884 ...   0.17359121   4.78863382\n",
            "   -0.67929214]\n",
            " [-12.23878384  -3.43063712  -7.23090363 ...   0.35684556   1.14516771\n",
            "  -12.33890343]\n",
            " [-13.61747742  -4.03414202  -3.02905583 ...  -2.24742937  -0.34948486\n",
            "  -13.41543579]]\n",
            "labels: [0 1 3 ... 0 0 1]\n"
          ]
        }
      ]
    },
    {
      "cell_type": "code",
      "source": [
        "from keras.utils import to_categorical\n",
        "\n",
        "onehot_labels = to_categorical(labels)"
      ],
      "metadata": {
        "id": "OQ5pGQ0Ui1GG"
      },
      "execution_count": null,
      "outputs": []
    },
    {
      "cell_type": "code",
      "source": [
        "print(f'Onehot labels: {onehot_labels}')"
      ],
      "metadata": {
        "colab": {
          "base_uri": "https://localhost:8080/"
        },
        "id": "4-d4TxxUlpG2",
        "outputId": "9827d162-ac26-48b8-f6ed-11b9ed7c5b9c"
      },
      "execution_count": null,
      "outputs": [
        {
          "output_type": "stream",
          "name": "stdout",
          "text": [
            "Onehot labels: [[1. 0. 0. 0.]\n",
            " [0. 1. 0. 0.]\n",
            " [0. 0. 0. 1.]\n",
            " ...\n",
            " [1. 0. 0. 0.]\n",
            " [1. 0. 0. 0.]\n",
            " [0. 1. 0. 0.]]\n"
          ]
        }
      ]
    },
    {
      "cell_type": "code",
      "source": [
        "from sklearn.model_selection import train_test_split\n",
        "X_train, X_rem, y_train, y_rem = train_test_split(bertEmbeddings, onehot_labels, test_size=0.3, random_state=42)"
      ],
      "metadata": {
        "id": "fP24uFRtmkky"
      },
      "execution_count": null,
      "outputs": []
    },
    {
      "cell_type": "code",
      "source": [
        "X_test, X_val, y_test, y_val = train_test_split(X_rem, y_rem, test_size=0.5, random_state=40)"
      ],
      "metadata": {
        "id": "2eP9h2pItt7J"
      },
      "execution_count": null,
      "outputs": []
    },
    {
      "cell_type": "code",
      "source": [
        "print(f'X_train: {X_train.shape}\\n\\\n",
        "        y_train: {y_train.shape}\\n\\\n",
        "        X_val: {X_val.shape}\\n\\\n",
        "        y_val: {y_val.shape}\\n\\\n",
        "        X_test: {X_test.shape}\\n\\\n",
        "        y_test: {y_test.shape}')"
      ],
      "metadata": {
        "colab": {
          "base_uri": "https://localhost:8080/"
        },
        "id": "ki7GhTqfmrc5",
        "outputId": "4140c064-764a-48c9-adbf-ee13edafe0e4"
      },
      "execution_count": null,
      "outputs": [
        {
          "output_type": "stream",
          "name": "stdout",
          "text": [
            "X_train: (3988, 128)\n",
            "        y_train: (3988, 4)\n",
            "        X_val: (855, 128)\n",
            "        y_val: (855, 4)\n",
            "        X_test: (855, 128)\n",
            "        y_test: (855, 4)\n"
          ]
        }
      ]
    },
    {
      "cell_type": "markdown",
      "source": [
        "# passing embeddings to lstm model"
      ],
      "metadata": {
        "id": "etztEMgCmAnE"
      }
    },
    {
      "cell_type": "code",
      "source": [
        "import numpy as np\n",
        "from keras.models import Sequential\n",
        "from keras.layers import Bidirectional, LSTM, Dense, BatchNormalization, Dropout"
      ],
      "metadata": {
        "id": "jJPJI4y8lueA"
      },
      "execution_count": null,
      "outputs": []
    },
    {
      "cell_type": "code",
      "source": [
        "input_shape = (128, 1)\n",
        "model = Sequential()\n",
        "model.add(Bidirectional(LSTM(64, return_sequences=True), input_shape=input_shape))\n",
        "model.add(BatchNormalization())\n",
        "model.add(Dropout(0.2))\n",
        "\n",
        "model.add(Bidirectional(LSTM(32)))\n",
        "model.add(BatchNormalization())\n",
        "model.add(Dropout(0.2))\n",
        "\n",
        "model.add(Dense(4, activation='softmax'))"
      ],
      "metadata": {
        "id": "j5NDR6PnpiEG"
      },
      "execution_count": null,
      "outputs": []
    },
    {
      "cell_type": "code",
      "source": [
        "model.compile(optimizer='adam', loss='categorical_crossentropy', metrics=['accuracy'])"
      ],
      "metadata": {
        "id": "QdYbBtUcqHOS"
      },
      "execution_count": null,
      "outputs": []
    },
    {
      "cell_type": "code",
      "source": [
        "model.summary()"
      ],
      "metadata": {
        "colab": {
          "base_uri": "https://localhost:8080/"
        },
        "id": "g_6L63-dwxh1",
        "outputId": "f62163e4-470e-4aae-cd2f-413505f022de"
      },
      "execution_count": null,
      "outputs": [
        {
          "output_type": "stream",
          "name": "stdout",
          "text": [
            "Model: \"sequential_8\"\n",
            "_________________________________________________________________\n",
            " Layer (type)                Output Shape              Param #   \n",
            "=================================================================\n",
            " bidirectional_23 (Bidirecti  (None, 128, 128)         33792     \n",
            " onal)                                                           \n",
            "                                                                 \n",
            " batch_normalization_20 (Bat  (None, 128, 128)         512       \n",
            " chNormalization)                                                \n",
            "                                                                 \n",
            " dropout_20 (Dropout)        (None, 128, 128)          0         \n",
            "                                                                 \n",
            " bidirectional_24 (Bidirecti  (None, 64)               41216     \n",
            " onal)                                                           \n",
            "                                                                 \n",
            " batch_normalization_21 (Bat  (None, 64)               256       \n",
            " chNormalization)                                                \n",
            "                                                                 \n",
            " dropout_21 (Dropout)        (None, 64)                0         \n",
            "                                                                 \n",
            " dense_5 (Dense)             (None, 4)                 260       \n",
            "                                                                 \n",
            "=================================================================\n",
            "Total params: 76,036\n",
            "Trainable params: 75,652\n",
            "Non-trainable params: 384\n",
            "_________________________________________________________________\n"
          ]
        }
      ]
    },
    {
      "cell_type": "code",
      "source": [
        "model.fit(X_train, y_train, batch_size=32, epochs=10, validation_data=(X_val, y_val))"
      ],
      "metadata": {
        "colab": {
          "base_uri": "https://localhost:8080/"
        },
        "id": "SjwPIMCmr-ly",
        "outputId": "709a5783-3f44-4c08-e198-e20c3e3f0042"
      },
      "execution_count": null,
      "outputs": [
        {
          "output_type": "stream",
          "name": "stdout",
          "text": [
            "Epoch 1/10\n",
            "125/125 [==============================] - 14s 39ms/step - loss: 1.5449 - accuracy: 0.3159 - val_loss: 1.3060 - val_accuracy: 0.3930\n",
            "Epoch 2/10\n",
            "125/125 [==============================] - 3s 23ms/step - loss: 1.3967 - accuracy: 0.3696 - val_loss: 1.3145 - val_accuracy: 0.3848\n",
            "Epoch 3/10\n",
            "125/125 [==============================] - 3s 23ms/step - loss: 1.3588 - accuracy: 0.4017 - val_loss: 1.3655 - val_accuracy: 0.3801\n",
            "Epoch 4/10\n",
            "125/125 [==============================] - 3s 26ms/step - loss: 1.3301 - accuracy: 0.4065 - val_loss: 1.3424 - val_accuracy: 0.3801\n",
            "Epoch 5/10\n",
            "125/125 [==============================] - 3s 27ms/step - loss: 1.3212 - accuracy: 0.4097 - val_loss: 1.3135 - val_accuracy: 0.3965\n",
            "Epoch 6/10\n",
            "125/125 [==============================] - 3s 23ms/step - loss: 1.2868 - accuracy: 0.4298 - val_loss: 1.3447 - val_accuracy: 0.3719\n",
            "Epoch 7/10\n",
            "125/125 [==============================] - 3s 22ms/step - loss: 1.2771 - accuracy: 0.4328 - val_loss: 1.3113 - val_accuracy: 0.3953\n",
            "Epoch 8/10\n",
            "125/125 [==============================] - 3s 23ms/step - loss: 1.2650 - accuracy: 0.4363 - val_loss: 1.2970 - val_accuracy: 0.3848\n",
            "Epoch 9/10\n",
            "125/125 [==============================] - 4s 32ms/step - loss: 1.2569 - accuracy: 0.4368 - val_loss: 1.3197 - val_accuracy: 0.4035\n",
            "Epoch 10/10\n",
            "125/125 [==============================] - 3s 23ms/step - loss: 1.2438 - accuracy: 0.4446 - val_loss: 1.3233 - val_accuracy: 0.3977\n"
          ]
        },
        {
          "output_type": "execute_result",
          "data": {
            "text/plain": [
              "<keras.callbacks.History at 0x7e103732f9a0>"
            ]
          },
          "metadata": {},
          "execution_count": 38
        }
      ]
    },
    {
      "cell_type": "code",
      "source": [
        "loss, accuracy = model.evaluate(X_val, y_val)\n",
        "print(f\"Validation Loss: {loss:.4f}, Validation Accuracy: {accuracy:.4f}\")"
      ],
      "metadata": {
        "colab": {
          "base_uri": "https://localhost:8080/"
        },
        "id": "uwBsfzwisIQS",
        "outputId": "d730dd76-b07c-4171-f912-8cedc095f72e"
      },
      "execution_count": null,
      "outputs": [
        {
          "output_type": "stream",
          "name": "stdout",
          "text": [
            "27/27 [==============================] - 0s 13ms/step - loss: 1.3233 - accuracy: 0.3977\n",
            "Validation Loss: 1.3233, Validation Accuracy: 0.3977\n"
          ]
        }
      ]
    },
    {
      "cell_type": "code",
      "source": [
        "from sklearn.metrics import classification_report\n",
        "\n",
        "# Step 7: Get predictions from the model\n",
        "y_test_pred = model.predict(X_test)\n",
        "\n",
        "# Convert one-hot encoded predictions to class labels\n",
        "y_test_pred_labels = np.argmax(y_test_pred, axis=1)\n",
        "y_test_true_labels = np.argmax(y_test, axis=1)\n",
        "\n",
        "# Step 8: Get the classification report for the test data\n",
        "report = classification_report(y_test_true_labels, y_test_pred_labels)\n",
        "print(\"Classification Report (Test Data):\")\n",
        "print(report)\n"
      ],
      "metadata": {
        "colab": {
          "base_uri": "https://localhost:8080/"
        },
        "id": "p-hoa7i5tPCe",
        "outputId": "7fc8badd-d9e9-4f7e-cf13-d10ed1af94f9"
      },
      "execution_count": null,
      "outputs": [
        {
          "output_type": "stream",
          "name": "stdout",
          "text": [
            "27/27 [==============================] - 7s 19ms/step\n",
            "Classification Report (Test Data):\n",
            "              precision    recall  f1-score   support\n",
            "\n",
            "           0       0.37      0.96      0.53       306\n",
            "           1       0.00      0.00      0.00       126\n",
            "           2       0.00      0.00      0.00       150\n",
            "           3       0.44      0.09      0.15       273\n",
            "\n",
            "    accuracy                           0.37       855\n",
            "   macro avg       0.20      0.26      0.17       855\n",
            "weighted avg       0.27      0.37      0.24       855\n",
            "\n"
          ]
        },
        {
          "output_type": "stream",
          "name": "stderr",
          "text": [
            "/usr/local/lib/python3.10/dist-packages/sklearn/metrics/_classification.py:1344: UndefinedMetricWarning: Precision and F-score are ill-defined and being set to 0.0 in labels with no predicted samples. Use `zero_division` parameter to control this behavior.\n",
            "  _warn_prf(average, modifier, msg_start, len(result))\n",
            "/usr/local/lib/python3.10/dist-packages/sklearn/metrics/_classification.py:1344: UndefinedMetricWarning: Precision and F-score are ill-defined and being set to 0.0 in labels with no predicted samples. Use `zero_division` parameter to control this behavior.\n",
            "  _warn_prf(average, modifier, msg_start, len(result))\n",
            "/usr/local/lib/python3.10/dist-packages/sklearn/metrics/_classification.py:1344: UndefinedMetricWarning: Precision and F-score are ill-defined and being set to 0.0 in labels with no predicted samples. Use `zero_division` parameter to control this behavior.\n",
            "  _warn_prf(average, modifier, msg_start, len(result))\n"
          ]
        }
      ]
    },
    {
      "cell_type": "code",
      "source": [],
      "metadata": {
        "id": "4oxtw7bjtcpK"
      },
      "execution_count": null,
      "outputs": []
    }
  ]
}