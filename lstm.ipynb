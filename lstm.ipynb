{
  "nbformat": 4,
  "nbformat_minor": 0,
  "metadata": {
    "colab": {
      "provenance": [],
      "gpuType": "T4",
      "mount_file_id": "1Bjc-7nD0xFTQ2uGTChdxvK6mqNIzoQoA",
      "authorship_tag": "ABX9TyNFqOCLCgMDZ8qn7jHz+8QG",
      "include_colab_link": true
    },
    "kernelspec": {
      "name": "python3",
      "display_name": "Python 3"
    },
    "language_info": {
      "name": "python"
    },
    "accelerator": "GPU"
  },
  "cells": [
    {
      "cell_type": "markdown",
      "metadata": {
        "id": "view-in-github",
        "colab_type": "text"
      },
      "source": [
        "<a href=\"https://colab.research.google.com/github/Tariquzzaman-faisal/hatespeech/blob/main/lstm.ipynb\" target=\"_parent\"><img src=\"https://colab.research.google.com/assets/colab-badge.svg\" alt=\"Open In Colab\"/></a>"
      ]
    },
    {
      "cell_type": "code",
      "source": [
        "from google.colab import drive\n",
        "\n",
        "drive.mount('/content/drive/')"
      ],
      "metadata": {
        "colab": {
          "base_uri": "https://localhost:8080/"
        },
        "id": "f3RSev7d4XDl",
        "outputId": "ff2733ea-660c-4cdc-904f-5f9c2b988045"
      },
      "execution_count": 59,
      "outputs": [
        {
          "output_type": "stream",
          "name": "stdout",
          "text": [
            "Drive already mounted at /content/drive/; to attempt to forcibly remount, call drive.mount(\"/content/drive/\", force_remount=True).\n"
          ]
        }
      ]
    },
    {
      "cell_type": "markdown",
      "source": [
        "# Reading the generated encodings and preparing the train and test dataset"
      ],
      "metadata": {
        "id": "E_Oy2g6E3xPM"
      }
    },
    {
      "cell_type": "code",
      "source": [
        "!pip install numpy"
      ],
      "metadata": {
        "colab": {
          "base_uri": "https://localhost:8080/"
        },
        "id": "Zp5G87O9irWd",
        "outputId": "801a64e7-fb7c-4792-9016-074b3d967bfb"
      },
      "execution_count": 60,
      "outputs": [
        {
          "output_type": "stream",
          "name": "stdout",
          "text": [
            "Requirement already satisfied: numpy in /usr/local/lib/python3.10/dist-packages (1.22.4)\n"
          ]
        }
      ]
    },
    {
      "cell_type": "code",
      "source": [
        "import csv\n",
        "import numpy as np\n",
        "\n",
        "# Specify the CSV file path\n",
        "csv_file_path = \"/content/drive/MyDrive/Research/Shared Task/Violence Inciting Text Detection (VITD) Bangla/embedded2.csv\"\n",
        "\n",
        "# Read the data from the CSV file\n",
        "data = np.genfromtxt(csv_file_path, delimiter=',', skip_header=1)\n",
        "\n",
        "# Split the data into `bertEmbeddings` and `labels` arrays\n",
        "bertEmbeddings = data[:, :-1]\n",
        "labels = data[:, -1].astype(int)"
      ],
      "metadata": {
        "id": "p6TC8ifQiTVH"
      },
      "execution_count": 61,
      "outputs": []
    },
    {
      "cell_type": "code",
      "source": [
        "print(f'bertEmbeddings: {bertEmbeddings}')\n",
        "print(f'labels: {labels}')"
      ],
      "metadata": {
        "colab": {
          "base_uri": "https://localhost:8080/"
        },
        "id": "w-mBeCqgiwKy",
        "outputId": "1c1812d0-3739-4daf-c384-f2a8ccfe50ed"
      },
      "execution_count": 62,
      "outputs": [
        {
          "output_type": "stream",
          "name": "stdout",
          "text": [
            "bertEmbeddings: [[-13.00299454  -0.73462087  -0.57271749 ...   5.38898468  -2.41615009\n",
            "   -0.43181288]\n",
            " [-12.77867985  -2.68920445  -3.35125947 ...   0.24795489  -0.66592824\n",
            "   -1.92575634]\n",
            " [-14.33217907  -7.8353014   -3.74883032 ...  -0.76926965  -1.4627775\n",
            "   -2.04114509]\n",
            " ...\n",
            " [-15.2856226   -2.84475231  -2.1643548  ...   1.90715456   0.3952359\n",
            "   -0.55821282]\n",
            " [-12.2387886   -3.43063974  -7.23090553 ...   6.47149897   1.32374465\n",
            "   -1.50549579]\n",
            " [-13.61747932  -4.03414297  -3.02906322 ...  -5.82230282 -13.61741447\n",
            "    2.46557331]]\n",
            "labels: [0 1 3 ... 0 0 1]\n"
          ]
        }
      ]
    },
    {
      "cell_type": "code",
      "source": [
        "from keras.utils import to_categorical\n",
        "\n",
        "onehot_labels = to_categorical(labels)"
      ],
      "metadata": {
        "id": "OQ5pGQ0Ui1GG"
      },
      "execution_count": 63,
      "outputs": []
    },
    {
      "cell_type": "code",
      "source": [
        "print(f'Onehot labels: {onehot_labels}')"
      ],
      "metadata": {
        "colab": {
          "base_uri": "https://localhost:8080/"
        },
        "id": "4-d4TxxUlpG2",
        "outputId": "558dc553-6ade-45c8-d164-e4f6da1c44af"
      },
      "execution_count": 64,
      "outputs": [
        {
          "output_type": "stream",
          "name": "stdout",
          "text": [
            "Onehot labels: [[1. 0. 0. 0.]\n",
            " [0. 1. 0. 0.]\n",
            " [0. 0. 0. 1.]\n",
            " ...\n",
            " [1. 0. 0. 0.]\n",
            " [1. 0. 0. 0.]\n",
            " [0. 1. 0. 0.]]\n"
          ]
        }
      ]
    },
    {
      "cell_type": "code",
      "source": [
        "from sklearn.model_selection import train_test_split\n",
        "X_train, X_rem, y_train, y_rem = train_test_split(bertEmbeddings, onehot_labels, test_size=0.3, random_state=42)"
      ],
      "metadata": {
        "id": "fP24uFRtmkky"
      },
      "execution_count": 65,
      "outputs": []
    },
    {
      "cell_type": "code",
      "source": [
        "X_test, X_val, y_test, y_val = train_test_split(X_rem, y_rem, test_size=0.5, random_state=40)"
      ],
      "metadata": {
        "id": "2eP9h2pItt7J"
      },
      "execution_count": 66,
      "outputs": []
    },
    {
      "cell_type": "code",
      "source": [
        "print(f'X_train: {X_train.shape}\\n\\\n",
        "        y_train: {y_train.shape}\\n\\\n",
        "        X_val: {X_val.shape}\\n\\\n",
        "        y_val: {y_val.shape}\\n\\\n",
        "        X_test: {X_test.shape}\\n\\\n",
        "        y_test: {y_test.shape}')"
      ],
      "metadata": {
        "colab": {
          "base_uri": "https://localhost:8080/"
        },
        "id": "ki7GhTqfmrc5",
        "outputId": "159991e2-fcc7-4b3a-e068-e6455196f29c"
      },
      "execution_count": 67,
      "outputs": [
        {
          "output_type": "stream",
          "name": "stdout",
          "text": [
            "X_train: (3988, 30)\n",
            "        y_train: (3988, 4)\n",
            "        X_val: (855, 30)\n",
            "        y_val: (855, 4)\n",
            "        X_test: (855, 30)\n",
            "        y_test: (855, 4)\n"
          ]
        }
      ]
    },
    {
      "cell_type": "markdown",
      "source": [
        "# passing embeddings to lstm model"
      ],
      "metadata": {
        "id": "etztEMgCmAnE"
      }
    },
    {
      "cell_type": "code",
      "source": [
        "import numpy as np\n",
        "from keras.models import Sequential\n",
        "from keras.layers import Bidirectional, LSTM, Dense, BatchNormalization, Dropout"
      ],
      "metadata": {
        "id": "jJPJI4y8lueA"
      },
      "execution_count": 68,
      "outputs": []
    },
    {
      "cell_type": "code",
      "source": [
        "input_shape = (30, 1)\n",
        "model = Sequential()\n",
        "model.add(Bidirectional(LSTM(64, return_sequences=True), input_shape=input_shape))\n",
        "model.add(BatchNormalization())\n",
        "model.add(Dropout(0.2))\n",
        "\n",
        "model.add(Bidirectional(LSTM(32)))\n",
        "model.add(BatchNormalization())\n",
        "model.add(Dropout(0.2))\n",
        "\n",
        "model.add(Dense(4, activation='softmax'))"
      ],
      "metadata": {
        "id": "j5NDR6PnpiEG"
      },
      "execution_count": 69,
      "outputs": []
    },
    {
      "cell_type": "code",
      "source": [
        "model.compile(optimizer='adam', loss='categorical_crossentropy', metrics=['accuracy'])"
      ],
      "metadata": {
        "id": "QdYbBtUcqHOS"
      },
      "execution_count": 70,
      "outputs": []
    },
    {
      "cell_type": "code",
      "source": [
        "model.summary()"
      ],
      "metadata": {
        "colab": {
          "base_uri": "https://localhost:8080/"
        },
        "id": "g_6L63-dwxh1",
        "outputId": "c382febc-cb91-412f-b540-1e807f4b4e15"
      },
      "execution_count": 71,
      "outputs": [
        {
          "output_type": "stream",
          "name": "stdout",
          "text": [
            "Model: \"sequential_7\"\n",
            "_________________________________________________________________\n",
            " Layer (type)                Output Shape              Param #   \n",
            "=================================================================\n",
            " bidirectional_7 (Bidirectio  (None, 30, 128)          33792     \n",
            " nal)                                                            \n",
            "                                                                 \n",
            " batch_normalization_4 (Batc  (None, 30, 128)          512       \n",
            " hNormalization)                                                 \n",
            "                                                                 \n",
            " dropout_4 (Dropout)         (None, 30, 128)           0         \n",
            "                                                                 \n",
            " bidirectional_8 (Bidirectio  (None, 64)               41216     \n",
            " nal)                                                            \n",
            "                                                                 \n",
            " batch_normalization_5 (Batc  (None, 64)               256       \n",
            " hNormalization)                                                 \n",
            "                                                                 \n",
            " dropout_5 (Dropout)         (None, 64)                0         \n",
            "                                                                 \n",
            " dense_4 (Dense)             (None, 4)                 260       \n",
            "                                                                 \n",
            "=================================================================\n",
            "Total params: 76,036\n",
            "Trainable params: 75,652\n",
            "Non-trainable params: 384\n",
            "_________________________________________________________________\n"
          ]
        }
      ]
    },
    {
      "cell_type": "code",
      "source": [
        "model.fit(X_train, y_train, batch_size=32, epochs=10, validation_data=(X_val, y_val))"
      ],
      "metadata": {
        "colab": {
          "base_uri": "https://localhost:8080/"
        },
        "id": "SjwPIMCmr-ly",
        "outputId": "82f46652-f93a-41e8-dce4-8d3af063efdc"
      },
      "execution_count": 72,
      "outputs": [
        {
          "output_type": "stream",
          "name": "stdout",
          "text": [
            "Epoch 1/10\n",
            "125/125 [==============================] - 16s 48ms/step - loss: 1.5769 - accuracy: 0.3272 - val_loss: 1.3569 - val_accuracy: 0.3462\n",
            "Epoch 2/10\n",
            "125/125 [==============================] - 3s 26ms/step - loss: 1.4232 - accuracy: 0.3749 - val_loss: 1.3110 - val_accuracy: 0.3942\n",
            "Epoch 3/10\n",
            "125/125 [==============================] - 4s 28ms/step - loss: 1.3751 - accuracy: 0.3879 - val_loss: 1.3207 - val_accuracy: 0.4117\n",
            "Epoch 4/10\n",
            "125/125 [==============================] - 3s 26ms/step - loss: 1.3501 - accuracy: 0.4007 - val_loss: 1.3112 - val_accuracy: 0.4175\n",
            "Epoch 5/10\n",
            "125/125 [==============================] - 2s 13ms/step - loss: 1.3484 - accuracy: 0.4040 - val_loss: 1.3085 - val_accuracy: 0.3895\n",
            "Epoch 6/10\n",
            "125/125 [==============================] - 2s 13ms/step - loss: 1.3101 - accuracy: 0.4070 - val_loss: 1.3011 - val_accuracy: 0.3965\n",
            "Epoch 7/10\n",
            "125/125 [==============================] - 2s 13ms/step - loss: 1.3025 - accuracy: 0.4092 - val_loss: 1.3602 - val_accuracy: 0.4082\n",
            "Epoch 8/10\n",
            "125/125 [==============================] - 2s 17ms/step - loss: 1.3014 - accuracy: 0.4240 - val_loss: 1.3118 - val_accuracy: 0.4070\n",
            "Epoch 9/10\n",
            "125/125 [==============================] - 2s 17ms/step - loss: 1.2788 - accuracy: 0.4278 - val_loss: 1.2843 - val_accuracy: 0.4211\n",
            "Epoch 10/10\n",
            "125/125 [==============================] - 2s 13ms/step - loss: 1.2786 - accuracy: 0.4253 - val_loss: 1.2983 - val_accuracy: 0.4105\n"
          ]
        },
        {
          "output_type": "execute_result",
          "data": {
            "text/plain": [
              "<keras.callbacks.History at 0x7d558346d6f0>"
            ]
          },
          "metadata": {},
          "execution_count": 72
        }
      ]
    },
    {
      "cell_type": "code",
      "source": [
        "loss, accuracy = model.evaluate(X_val, y_val)\n",
        "print(f\"Validation Loss: {loss:.4f}, Validation Accuracy: {accuracy:.4f}\")"
      ],
      "metadata": {
        "colab": {
          "base_uri": "https://localhost:8080/"
        },
        "id": "uwBsfzwisIQS",
        "outputId": "002a9e94-9765-4521-effe-172b492c5590"
      },
      "execution_count": 73,
      "outputs": [
        {
          "output_type": "stream",
          "name": "stdout",
          "text": [
            "27/27 [==============================] - 0s 6ms/step - loss: 1.2983 - accuracy: 0.4105\n",
            "Validation Loss: 1.2983, Validation Accuracy: 0.4105\n"
          ]
        }
      ]
    },
    {
      "cell_type": "code",
      "source": [
        "from sklearn.metrics import classification_report\n",
        "\n",
        "# Step 7: Get predictions from the model\n",
        "y_test_pred = model.predict(X_test)\n",
        "\n",
        "# Convert one-hot encoded predictions to class labels\n",
        "y_test_pred_labels = np.argmax(y_test_pred, axis=1)\n",
        "y_test_true_labels = np.argmax(y_test, axis=1)\n",
        "\n",
        "# Step 8: Get the classification report for the test data\n",
        "report = classification_report(y_test_true_labels, y_test_pred_labels)\n",
        "print(\"Classification Report (Test Data):\")\n",
        "print(report)\n"
      ],
      "metadata": {
        "colab": {
          "base_uri": "https://localhost:8080/"
        },
        "id": "p-hoa7i5tPCe",
        "outputId": "df4122d6-90ba-42a7-c0b5-777c20cce44f"
      },
      "execution_count": 74,
      "outputs": [
        {
          "output_type": "stream",
          "name": "stdout",
          "text": [
            "27/27 [==============================] - 1s 5ms/step\n",
            "Classification Report (Test Data):\n",
            "              precision    recall  f1-score   support\n",
            "\n",
            "           0       0.42      0.75      0.54       306\n",
            "           1       0.17      0.01      0.02       126\n",
            "           2       0.25      0.07      0.11       150\n",
            "           3       0.44      0.41      0.43       273\n",
            "\n",
            "    accuracy                           0.42       855\n",
            "   macro avg       0.32      0.31      0.27       855\n",
            "weighted avg       0.36      0.42      0.35       855\n",
            "\n"
          ]
        }
      ]
    },
    {
      "cell_type": "code",
      "source": [],
      "metadata": {
        "id": "4oxtw7bjtcpK"
      },
      "execution_count": 74,
      "outputs": []
    }
  ]
}